{
 "cells": [
  {
   "cell_type": "code",
   "execution_count": 1,
   "metadata": {},
   "outputs": [],
   "source": [
    "import warnings\n",
    "\n",
    "warnings.filterwarnings(\"ignore\")\n",
    "import pandas as pd\n",
    "import numpy as np"
   ]
  },
  {
   "cell_type": "code",
   "execution_count": 2,
   "metadata": {},
   "outputs": [],
   "source": [
    "# Read in the survey data\n",
    "df = pd.read_pickle(\"../data/survey.pkl\")"
   ]
  },
  {
   "cell_type": "code",
   "execution_count": 3,
   "metadata": {},
   "outputs": [
    {
     "name": "stdout",
     "output_type": "stream",
     "text": [
      "| model      |   base |   calfw |   cplfw |    lfw |   mlfw |   sllfw |   xqlfw |\n",
      "|:-----------|-------:|--------:|--------:|-------:|-------:|--------:|--------:|\n",
      "| AIMax      | 85.00% |  95.97% |  92.53% | 99.80% | 89.48% |  97.45% |  94.43% |\n",
      "| AIMean     | 85.00% |  95.72% |  92.38% | 99.82% | 88.60% |  97.12% |  94.58% |\n",
      "| AIMin      | 75.00% |  94.05% |  88.97% | 99.60% | 76.72% |  95.15% |  87.78% |\n",
      "| ArcFace*   | 67.50% |  93.85% |  88.37% | 99.55% | 73.53% |  94.90% |  93.27% |\n",
      "| FaceTrans* | 82.50% |  94.93% |  91.58% | 99.73% | 85.63% |  96.78% |  95.12% |\n",
      "| Human      | 67.25% |  66.23% |  68.38% |   nan% | 64.48% |    nan% |  70.19% |\n",
      "| HumanMax   | 70.00% |    nan% |    nan% |   nan% |   nan% |    nan% |    nan% |\n",
      "| HumanMean  | 70.00% |    nan% |    nan% |   nan% |   nan% |    nan% |    nan% |\n",
      "| ProdPoly   | 82.50% |  96.03% |  92.75% | 99.80% | 91.30% |  97.47% |  86.90% |\n"
     ]
    }
   ],
   "source": [
    "# Calculate Accuracy for each Model and Dataset\n",
    "accs = df.groupby([\"dataset\", \"model\"]).apply(lambda x: np.sum(x[\"prediction\"] == x[\"label\"]) / len(x)).unstack().T\n",
    "print(accs.to_markdown(floatfmt=\".2%\"))"
   ]
  },
  {
   "cell_type": "code",
   "execution_count": 4,
   "metadata": {},
   "outputs": [
    {
     "name": "stdout",
     "output_type": "stream",
     "text": [
      "|    | dataset   | model      |   tp |   fp |   tn |   fn |\n",
      "|---:|:----------|:-----------|-----:|-----:|-----:|-----:|\n",
      "|  0 | base      | AIMax      |   15 |    1 |   19 |    5 |\n",
      "|  1 | base      | AIMean     |   15 |    1 |   19 |    5 |\n",
      "|  2 | base      | AIMin      |   14 |    4 |   16 |    6 |\n",
      "|  3 | base      | ArcFace*   |   12 |    5 |   15 |    8 |\n",
      "|  4 | base      | FaceTrans* |   15 |    2 |   18 |    5 |\n",
      "|  5 | base      | Human      |  614 |  200 | 1000 |  586 |\n",
      "|  6 | base      | HumanMax   |    8 |    0 |   20 |   12 |\n",
      "|  7 | base      | HumanMean  |    8 |    0 |   20 |   12 |\n",
      "|  8 | base      | ProdPoly   |   13 |    0 |   20 |    7 |\n",
      "|  9 | calfw     | AIMax      | 2777 |   19 | 2981 |  223 |\n",
      "| 10 | calfw     | AIMean     | 2773 |   30 | 2970 |  227 |\n",
      "| 11 | calfw     | AIMin      | 2729 |   86 | 2914 |  271 |\n",
      "| 12 | calfw     | ArcFace*   | 2729 |   98 | 2902 |  271 |\n",
      "| 13 | calfw     | FaceTrans* | 2772 |   76 | 2924 |  228 |\n",
      "| 14 | calfw     | Human      |  188 |   97 |  265 |  134 |\n",
      "| 15 | calfw     | ProdPoly   | 2774 |   12 | 2988 |  226 |\n",
      "| 16 | cplfw     | AIMax      | 2599 |   47 | 2953 |  401 |\n",
      "| 17 | cplfw     | AIMean     | 2597 |   54 | 2946 |  403 |\n",
      "| 18 | cplfw     | AIMin      | 2478 |  140 | 2860 |  522 |\n",
      "| 19 | cplfw     | ArcFace*   | 2438 |  136 | 2864 |  562 |\n",
      "| 20 | cplfw     | FaceTrans* | 2606 |  111 | 2889 |  394 |\n",
      "| 21 | cplfw     | Human      |  367 |  188 |  580 |  250 |\n",
      "| 22 | cplfw     | ProdPoly   | 2613 |   48 | 2952 |  387 |\n",
      "| 23 | lfw       | AIMax      | 2988 |    0 | 3000 |   12 |\n",
      "| 24 | lfw       | AIMean     | 2990 |    1 | 2999 |   10 |\n",
      "| 25 | lfw       | AIMin      | 2986 |   10 | 2990 |   14 |\n",
      "| 26 | lfw       | ArcFace*   | 2981 |    8 | 2992 |   19 |\n",
      "| 27 | lfw       | FaceTrans* | 2988 |    4 | 2996 |   12 |\n",
      "| 28 | lfw       | ProdPoly   | 2988 |    0 | 3000 |   12 |\n",
      "| 29 | mlfw      | AIMax      | 2585 |  216 | 2784 |  415 |\n",
      "| 30 | mlfw      | AIMean     | 2565 |  249 | 2751 |  435 |\n",
      "| 31 | mlfw      | AIMin      | 2254 |  651 | 2349 |  746 |\n",
      "| 32 | mlfw      | ArcFace*   | 2211 |  799 | 2201 |  789 |\n",
      "| 33 | mlfw      | FaceTrans* | 2432 |  294 | 2706 |  568 |\n",
      "| 34 | mlfw      | Human      |  961 |  511 | 1335 |  754 |\n",
      "| 35 | mlfw      | ProdPoly   | 2645 |  167 | 2833 |  355 |\n",
      "| 36 | sllfw     | AIMax      | 2856 |    9 | 2991 |  144 |\n",
      "| 37 | sllfw     | AIMean     | 2839 |   12 | 2988 |  161 |\n",
      "| 38 | sllfw     | AIMin      | 2768 |   59 | 2941 |  232 |\n",
      "| 39 | sllfw     | ArcFace*   | 2765 |   71 | 2929 |  235 |\n",
      "| 40 | sllfw     | FaceTrans* | 2825 |   18 | 2982 |  175 |\n",
      "| 41 | sllfw     | ProdPoly   | 2855 |    7 | 2993 |  145 |\n",
      "| 42 | xqlfw     | AIMax      | 2759 |   93 | 2907 |  241 |\n",
      "| 43 | xqlfw     | AIMean     | 2766 |   91 | 2909 |  234 |\n",
      "| 44 | xqlfw     | AIMin      | 2580 |  313 | 2687 |  420 |\n",
      "| 45 | xqlfw     | ArcFace*   | 2758 |  162 | 2838 |  242 |\n",
      "| 46 | xqlfw     | FaceTrans* | 2837 |  130 | 2870 |  163 |\n",
      "| 47 | xqlfw     | Human      |  431 |  157 |  843 |  384 |\n",
      "| 48 | xqlfw     | ProdPoly   | 2472 |  258 | 2742 |  528 |\n"
     ]
    }
   ],
   "source": [
    "# Make Evaluation with TP FP etc.\n",
    "df[\"tp\"] = (df[\"prediction\"] == 1) & (df[\"label\"] == 1)\n",
    "df[\"fp\"] = (df[\"prediction\"] == 1) & (df[\"label\"] == 0)\n",
    "df[\"tn\"] = (df[\"prediction\"] == 0) & (df[\"label\"] == 0)\n",
    "df[\"fn\"] = (df[\"prediction\"] == 0) & (df[\"label\"] == 1)\n",
    "\n",
    "# Display in a Matrix for each Dataset and Model\n",
    "metrics = df.groupby([\"dataset\", \"model\"]).apply(lambda x: x[[\"tp\", \"fp\", \"tn\", \"fn\"]].sum()).reset_index()\n",
    "\n",
    "# Print Metrics\n",
    "print(metrics.to_markdown())"
   ]
  },
  {
   "cell_type": "code",
   "execution_count": 5,
   "metadata": {},
   "outputs": [
    {
     "name": "stdout",
     "output_type": "stream",
     "text": [
      "|    | dataset   | model      |   accuracy |   precision |   sensitivity |     f1 |    FNR |\n",
      "|---:|:----------|:-----------|-----------:|------------:|--------------:|-------:|-------:|\n",
      "|  0 | base      | AIMax      |     85.00% |      93.75% |        75.00% | 83.33% | 25.00% |\n",
      "|  1 | base      | AIMean     |     85.00% |      93.75% |        75.00% | 83.33% | 25.00% |\n",
      "|  2 | base      | AIMin      |     75.00% |      77.78% |        70.00% | 73.68% | 30.00% |\n",
      "|  3 | base      | ArcFace*   |     67.50% |      70.59% |        60.00% | 64.86% | 40.00% |\n",
      "|  4 | base      | FaceTrans* |     82.50% |      88.24% |        75.00% | 81.08% | 25.00% |\n",
      "|  5 | base      | Human      |     67.25% |      75.43% |        51.17% | 60.97% | 48.83% |\n",
      "|  6 | base      | HumanMax   |     70.00% |     100.00% |        40.00% | 57.14% | 60.00% |\n",
      "|  7 | base      | HumanMean  |     70.00% |     100.00% |        40.00% | 57.14% | 60.00% |\n",
      "|  8 | base      | ProdPoly   |     82.50% |     100.00% |        65.00% | 78.79% | 35.00% |\n"
     ]
    }
   ],
   "source": [
    "# From the metrics calculate the accuracy, precision, recall and f1 score for each model and dataset\n",
    "metrics[\"accuracy\"] = (metrics[\"tp\"] + metrics[\"tn\"]) / (metrics[\"tp\"] + metrics[\"tn\"] + metrics[\"fp\"] + metrics[\"fn\"])\n",
    "metrics[\"precision\"] = metrics[\"tp\"] / (metrics[\"tp\"] + metrics[\"fp\"])\n",
    "metrics[\"sensitivity\"] = metrics[\"tp\"] / (metrics[\"tp\"] + metrics[\"fn\"])\n",
    "metrics[\"f1\"] = 2 * metrics[\"precision\"] * metrics[\"sensitivity\"] / (metrics[\"precision\"] + metrics[\"sensitivity\"])\n",
    "metrics[\"FNR\"] = 1 - metrics[\"sensitivity\"]\n",
    "\n",
    "# Drop the tp, fp, tn, fn columns\n",
    "metrics_clean = metrics.drop([\"tp\", \"fp\", \"tn\", \"fn\"], axis=1)\n",
    "\n",
    "# Print Metrics for base Dataset and each Model\n",
    "print(metrics_clean[metrics_clean[\"dataset\"] == \"base\"].to_markdown(floatfmt=\".2%\"))\n",
    "metrics_clean[metrics_clean[\"dataset\"] == \"base\"].to_clipboard()"
   ]
  }
 ],
 "metadata": {
  "kernelspec": {
   "display_name": "venv",
   "language": "python",
   "name": "python3"
  },
  "language_info": {
   "codemirror_mode": {
    "name": "ipython",
    "version": 3
   },
   "file_extension": ".py",
   "mimetype": "text/x-python",
   "name": "python",
   "nbconvert_exporter": "python",
   "pygments_lexer": "ipython3",
   "version": "3.8.16"
  },
  "orig_nbformat": 4
 },
 "nbformat": 4,
 "nbformat_minor": 2
}
